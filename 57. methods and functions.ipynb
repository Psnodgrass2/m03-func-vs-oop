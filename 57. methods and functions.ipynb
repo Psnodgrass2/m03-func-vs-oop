{
 "cells": [
  {
   "cell_type": "markdown",
   "id": "54b63d5b",
   "metadata": {},
   "source": [
    "For some reason there was no file download for the homework so each of the problems will be done individually here."
   ]
  },
  {
   "cell_type": "markdown",
   "id": "6b9504ac",
   "metadata": {},
   "source": [
    "Problem 1 compute volume of sphere given it's radius"
   ]
  },
  {
   "cell_type": "code",
   "execution_count": 1,
   "id": "90f6bbed",
   "metadata": {},
   "outputs": [],
   "source": [
    "import math\n",
    "def vol(rad):\n",
    "    rad **=3\n",
    "    rad *= 3.14\n",
    "    rad *= (4/3)\n",
    "    return rad"
   ]
  },
  {
   "cell_type": "code",
   "execution_count": 2,
   "id": "56c17e3e",
   "metadata": {},
   "outputs": [
    {
     "name": "stdout",
     "output_type": "stream",
     "text": [
      "33.49333333333333\n"
     ]
    }
   ],
   "source": [
    "print(vol(2))"
   ]
  },
  {
   "cell_type": "markdown",
   "id": "006df98a",
   "metadata": {},
   "source": [
    "Problem 2 check if a function is in a given range."
   ]
  },
  {
   "cell_type": "code",
   "execution_count": 13,
   "id": "65a44f62",
   "metadata": {},
   "outputs": [],
   "source": [
    "def ran_check(num,low,high):\n",
    "    if num > high:\n",
    "        return (str(num) + \" is too high\")\n",
    "    elif num < low:\n",
    "        return (str(num) + \" is too low\")\n",
    "    else:\n",
    "        return (str(num) + \" is within the range\")"
   ]
  },
  {
   "cell_type": "code",
   "execution_count": 14,
   "id": "b02f19a3",
   "metadata": {},
   "outputs": [
    {
     "data": {
      "text/plain": [
       "'5 is within the range'"
      ]
     },
     "execution_count": 14,
     "metadata": {},
     "output_type": "execute_result"
    }
   ],
   "source": [
    "ran_check(5,2,7)"
   ]
  },
  {
   "cell_type": "code",
   "execution_count": 16,
   "id": "5448173a",
   "metadata": {},
   "outputs": [],
   "source": [
    "def ran_bool(num,low,high):\n",
    "    if num > high:\n",
    "        return False\n",
    "    elif num < low:\n",
    "        return False\n",
    "    else:\n",
    "        return True"
   ]
  },
  {
   "cell_type": "code",
   "execution_count": 17,
   "id": "32d53834",
   "metadata": {},
   "outputs": [
    {
     "data": {
      "text/plain": [
       "True"
      ]
     },
     "execution_count": 17,
     "metadata": {},
     "output_type": "execute_result"
    }
   ],
   "source": [
    "ran_bool(3,1,10)"
   ]
  },
  {
   "cell_type": "markdown",
   "id": "39ac9936",
   "metadata": {},
   "source": [
    "Problem 3. Accepts a string and prints the number of upper and lower case letters."
   ]
  },
  {
   "cell_type": "code",
   "execution_count": 33,
   "id": "c1b61aab",
   "metadata": {},
   "outputs": [],
   "source": [
    "def up_low(s):\n",
    "    numupper = 0\n",
    "    numlower = 0\n",
    "    for each in s:\n",
    "        if each != \" \":\n",
    "            if each.isupper():\n",
    "                numupper += 1\n",
    "            if each.islower():\n",
    "                numlower += 1\n",
    "    return (\"The number of uppercase letters is: \"+ str(numupper) + \"\\nThe number of lowercase letters is: \"+ str(numlower))"
   ]
  },
  {
   "cell_type": "code",
   "execution_count": 35,
   "id": "21bddb7f",
   "metadata": {},
   "outputs": [
    {
     "name": "stdout",
     "output_type": "stream",
     "text": [
      "The number of uppercase letters is: 5\n",
      "The number of lowercase letters is: 29\n"
     ]
    }
   ],
   "source": [
    "print(up_low(\"I like pizza really good MMMM yes good mhm.\"))"
   ]
  },
  {
   "cell_type": "markdown",
   "id": "808ee6e3",
   "metadata": {},
   "source": [
    "Problem 4. Take a list and return all unique values"
   ]
  },
  {
   "cell_type": "code",
   "execution_count": 36,
   "id": "9a7f3448",
   "metadata": {},
   "outputs": [],
   "source": [
    "def unique_list(lst):\n",
    "    unqlist = []\n",
    "    for each in lst:\n",
    "        if not(each in unqlist):\n",
    "            unqlist.append(each)\n",
    "    return unqlist"
   ]
  },
  {
   "cell_type": "code",
   "execution_count": 37,
   "id": "419da8f7",
   "metadata": {},
   "outputs": [
    {
     "data": {
      "text/plain": [
       "['apple', 3, 4, 5, 6, 7, 'banana']"
      ]
     },
     "execution_count": 37,
     "metadata": {},
     "output_type": "execute_result"
    }
   ],
   "source": [
    "unique_list([\"apple\", \"apple\", 3,3,3,3,3,3,3,3,4,5,6,6,5,7,\"banana\",\"banana\"])"
   ]
  },
  {
   "cell_type": "markdown",
   "id": "1fae927c",
   "metadata": {},
   "source": [
    "Problem 5. Multiply each number in a list."
   ]
  },
  {
   "cell_type": "code",
   "execution_count": 41,
   "id": "48b0efcf",
   "metadata": {},
   "outputs": [],
   "source": [
    "def multiply(numbers):\n",
    "    total = 1\n",
    "    for each in numbers:\n",
    "        total *= each\n",
    "    return total"
   ]
  },
  {
   "cell_type": "code",
   "execution_count": 42,
   "id": "c9c59fda",
   "metadata": {},
   "outputs": [
    {
     "data": {
      "text/plain": [
       "-24"
      ]
     },
     "execution_count": 42,
     "metadata": {},
     "output_type": "execute_result"
    }
   ],
   "source": [
    "multiply([1,2,3,-4])"
   ]
  },
  {
   "cell_type": "code",
   "execution_count": 49,
   "id": "11f7d861",
   "metadata": {},
   "outputs": [],
   "source": [
    "def palindrome(s):\n",
    "    s.replace(\" \", \"\")\n",
    "    reversedstring = ''.join(reversed(s))\n",
    "    if s == reversedstring:\n",
    "        return True\n",
    "    else:\n",
    "        return False"
   ]
  },
  {
   "cell_type": "code",
   "execution_count": 50,
   "id": "8fb203ec",
   "metadata": {},
   "outputs": [
    {
     "data": {
      "text/plain": [
       "True"
      ]
     },
     "execution_count": 50,
     "metadata": {},
     "output_type": "execute_result"
    }
   ],
   "source": [
    "palindrome(\"abcba\")"
   ]
  },
  {
   "cell_type": "markdown",
   "id": "7daaf4bf",
   "metadata": {},
   "source": [
    "Problem 6. Check if is pangram."
   ]
  },
  {
   "cell_type": "code",
   "execution_count": 78,
   "id": "ce47eaf1",
   "metadata": {},
   "outputs": [],
   "source": [
    "import string\n",
    "def ispangram(str1, alphabet=string.ascii_lowercase):\n",
    "    sortalphabet = []\n",
    "    finalcomparestring = \"\"\n",
    "    for each in str1:\n",
    "        if (each.lower() in alphabet) and not (each.lower()  in sortalphabet):\n",
    "            sortalphabet.append(each.lower())\n",
    "    sortalphabet = sorted(sortalphabet)\n",
    "    for each in sortalphabet:\n",
    "        finalcomparestring = finalcomparestring + each\n",
    "    if finalcomparestring == alphabet:\n",
    "        return True\n",
    "    else:\n",
    "        return False\n",
    "    \n",
    "    "
   ]
  },
  {
   "cell_type": "code",
   "execution_count": 79,
   "id": "78568f6a",
   "metadata": {},
   "outputs": [
    {
     "data": {
      "text/plain": [
       "False"
      ]
     },
     "execution_count": 79,
     "metadata": {},
     "output_type": "execute_result"
    }
   ],
   "source": [
    "ispangram(\"apples\")"
   ]
  },
  {
   "cell_type": "code",
   "execution_count": 80,
   "id": "d89ad0d2",
   "metadata": {},
   "outputs": [
    {
     "data": {
      "text/plain": [
       "True"
      ]
     },
     "execution_count": 80,
     "metadata": {},
     "output_type": "execute_result"
    }
   ],
   "source": [
    "ispangram(\"The quick brown fox jumps over the lazy dog\")"
   ]
  },
  {
   "cell_type": "code",
   "execution_count": null,
   "id": "54a27601",
   "metadata": {},
   "outputs": [],
   "source": []
  }
 ],
 "metadata": {
  "kernelspec": {
   "display_name": "Python 3 (ipykernel)",
   "language": "python",
   "name": "python3"
  },
  "language_info": {
   "codemirror_mode": {
    "name": "ipython",
    "version": 3
   },
   "file_extension": ".py",
   "mimetype": "text/x-python",
   "name": "python",
   "nbconvert_exporter": "python",
   "pygments_lexer": "ipython3",
   "version": "3.9.13"
  }
 },
 "nbformat": 4,
 "nbformat_minor": 5
}
